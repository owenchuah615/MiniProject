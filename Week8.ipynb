{
 "cells": [
  {
   "cell_type": "markdown",
   "id": "dac1720d",
   "metadata": {},
   "source": [
    "# Learning outcomes\n",
    "- IOU"
   ]
  },
  {
   "cell_type": "code",
   "execution_count": 1,
   "id": "5dc56cb2",
   "metadata": {},
   "outputs": [
    {
     "data": {
      "text/plain": [
       "True"
      ]
     },
     "execution_count": 1,
     "metadata": {},
     "output_type": "execute_result"
    }
   ],
   "source": [
    "import sys\n",
    "assert sys.version_info >= (3, 7)\n",
    "\n",
    "import cv2 as cv\n",
    "import numpy as np\n",
    "import matplotlib.pyplot as plt\n",
    "from util_func import *\n",
    "\n",
    "if not cv.useOptimized():\n",
    "    cv.setUseOptimized(True)\n",
    "    \n",
    "cv.useOptimized()"
   ]
  },
  {
   "cell_type": "markdown",
   "id": "df67d0f7",
   "metadata": {},
   "source": [
    "## IOU\n",
    "IOU = |A intercept B| / |A union B|"
   ]
  },
  {
   "cell_type": "code",
   "execution_count": 2,
   "id": "f24fe01d",
   "metadata": {},
   "outputs": [],
   "source": [
    "def computeIOU(boxA,boxB):\n",
    "    \"\"\"boxA and boxB are xyxy formats\"\"\"\n",
    "    \n",
    "    x_start = max(boxA[0],boxB[0])\n",
    "    y_start = max(boxA[1],boxB[1])\n",
    "    x_end = min(boxA[2],boxB[2])\n",
    "    y_end = min(boxA[3],boxB[3])\n",
    "    \n",
    "    interArea = max(0, x_end - x_start + 1) * max(0,y_end - y_start + 1)\n",
    "    \n",
    "    areaA = (boxA[2] - boxA[0] + 1) * (boxA[3] - boxA[1] + 1)\n",
    "    areaB = (boxB[2] - boxB[0] + 1) * (boxB[3] - boxB[1] + 1)\n",
    "    \n",
    "    return interArea / (areaA + areaB - interArea)"
   ]
  },
  {
   "cell_type": "code",
   "execution_count": 3,
   "id": "702a7615",
   "metadata": {},
   "outputs": [],
   "source": [
    "img = cv.imread(\"images/lena.jfif\")"
   ]
  },
  {
   "cell_type": "code",
   "execution_count": 27,
   "id": "828d7777",
   "metadata": {},
   "outputs": [],
   "source": [
    "boxes = cv.selectROIs(\"bounding box\", img, showCrosshair = False)\n",
    "\n",
    "cv.waitKey(0)\n",
    "cv.destroyAllWindows()"
   ]
  },
  {
   "cell_type": "code",
   "execution_count": 28,
   "id": "a7f01388",
   "metadata": {},
   "outputs": [
    {
     "data": {
      "text/plain": [
       "array([[ 62,  98,  95,  83],\n",
       "       [ 62,  98,  95,  83],\n",
       "       [114,  61,  88,  90],\n",
       "       [114,  61,  88,  90]])"
      ]
     },
     "execution_count": 28,
     "metadata": {},
     "output_type": "execute_result"
    }
   ],
   "source": [
    "boxes"
   ]
  },
  {
   "cell_type": "code",
   "execution_count": 23,
   "id": "fd4896d9",
   "metadata": {},
   "outputs": [],
   "source": [
    "def convert_xywh_to_xyxy(box):\n",
    "    return [box[0],box[1],box[0] + box[2], box[1], box[3]]"
   ]
  },
  {
   "cell_type": "code",
   "execution_count": 29,
   "id": "5e423aca",
   "metadata": {},
   "outputs": [],
   "source": [
    "gt = convert_xywh_to_xyxy(boxes[0])\n",
    "pred = convert_xywh_to_xyxy(boxes[1])\n",
    "\n",
    "img_copy = img.copy()\n",
    "cv.rectangle(img_copy,(gt[0],gt[1]),(gt[2],gt[3]),(0,0,255),2)\n",
    "cv.rectangle(img_copy,(pred[0],pred[1]),(pred[2],pred[3]),(255,0,0),2)\n",
    "cv.putText(img_copy,f\"IOU:{computeIOU(gt,pred):.3f}\",(10,25),\n",
    "            cv.FONT_HERSHEY_SIMPLEX,0.5,(0,255,0),1)\n",
    "\n",
    "show_img(\"IOU\",img_copy)"
   ]
  },
  {
   "cell_type": "markdown",
   "id": "a8d8f948",
   "metadata": {},
   "source": [
    "# Edge detection\n",
    "Sobel x operator kernel formulation:\n",
    "\n",
    "[-1,0,1 \n",
    "-2,0,2\n",
    "-1,0,1]"
   ]
  },
  {
   "cell_type": "code",
   "execution_count": 31,
   "id": "6804d8d9",
   "metadata": {},
   "outputs": [],
   "source": [
    "img = cv.imread(\"images/wood_planck.jfif\",0)\n",
    "\n",
    "th = cv.threshold(img,200,255,cv.THRESH_BINARY_INV)[1]\n",
    "\n",
    "show_img(\"binary\",th)"
   ]
  },
  {
   "cell_type": "code",
   "execution_count": 32,
   "id": "f6f813a5",
   "metadata": {},
   "outputs": [
    {
     "data": {
      "image/png": "[encoded data removed]",
      "text/plain": [
       "<Figure size 432x288 with 2 Axes>"
      ]
     },
     "metadata": {},
     "output_type": "display_data"
    }
   ],
   "source": [
    "# sobel operators (WRONG)\n",
    "sobelx_8u = cv.Sobel(th,cv.CV_8U, 1, 0)\n",
    "\n",
    "# (CORRECT)\n",
    "sobelx_32f = cv.Sobel(th,cv.CV_32F,1,0)\n",
    "sobelx = cv.convertScaleAbs(sobelx_32f) # absolute and convert to uint8\n",
    "\n",
    "plt.subplot(121), plt_img(sobelx_8u,\"wrong\")\n",
    "plt.subplot(122), plt_img(sobelx,\"correct\")\n",
    "plt.show()"
   ]
  },
  {
   "cell_type": "markdown",
   "id": "ea43b8dc",
   "metadata": {},
   "source": [
    "### combine x and y edges"
   ]
  },
  {
   "cell_type": "code",
   "execution_count": 33,
   "id": "3a9b7218",
   "metadata": {},
   "outputs": [
    {
     "data": {
      "image/png": "[encoded data removed]",
      "text/plain": [
       "<Figure size 432x288 with 6 Axes>"
      ]
     },
     "metadata": {
      "needs_background": "light"
     },
     "output_type": "display_data"
    }
   ],
   "source": [
    "img = cv.imread(\"images/chessboard.png\",0)\n",
    "\n",
    "# sobel x and y\n",
    "sobelx_32f = cv.Sobel(img,cv.CV_32F,1,0)\n",
    "sobelx = cv.convertScaleAbs(sobelx_32f)\n",
    "sobely_32f = cv.Sobel(img,cv.CV_32F,1,0)\n",
    "sobely = cv.convertScaleAbs(sobely_32f)\n",
    "\n",
    "# gradient and direction\n",
    "gradient = cv.magnitude(sobelx_32f,sobely_32f)\n",
    "direction = cv.phase(sobelx_32f,sobely_32f,angleInDegrees=True) % 180\n",
    "\n",
    "plt.subplot(221), plt_img(sobelx,\"vertical\")\n",
    "plt.subplot(222), plt_img(sobely,\"horizontal\")\n",
    "plt.subplot(223), plt.imshow(gradient,cmap = \"jet\"), plt.title(\"gradient\")\n",
    "plt.colorbar()\n",
    "plt.subplot(224), plt.imshow(direction,cmap = \"jet\"), plt.title(\"direction\")\n",
    "plt.colorbar()\n",
    "plt.show()"
   ]
  },
  {
   "cell_type": "code",
   "execution_count": 34,
   "id": "d0dc5dc1",
   "metadata": {},
   "outputs": [
    {
     "data": {
      "image/png": "[encoded data removed]",
      "text/plain": [
       "<Figure size 432x288 with 2 Axes>"
      ]
     },
     "metadata": {},
     "output_type": "display_data"
    }
   ],
   "source": [
    "img = cv.imread(\"images/chair.jpg\",0)\n",
    "\n",
    "edge = cv.Canny(img,100,300)\n",
    "\n",
    "plt.subplot(121), plt_img(img,\"grayscale\")\n",
    "plt.subplot(122), plt_img(edge, \"canny\")\n",
    "plt.show()"
   ]
  },
  {
   "cell_type": "code",
   "execution_count": 35,
   "id": "811d111f",
   "metadata": {},
   "outputs": [
    {
     "data": {
      "image/png": "[encoded data removed]",
      "text/plain": [
       "<Figure size 432x288 with 2 Axes>"
      ]
     },
     "metadata": {},
     "output_type": "display_data"
    }
   ],
   "source": [
    "img = cv.imread(\"images/chair.jpg\",0)\n",
    "\n",
    "edge = cv.Canny(img,30,150)\n",
    "\n",
    "plt.subplot(121), plt_img(img,\"grayscale\")\n",
    "plt.subplot(122), plt_img(edge, \"canny\")\n",
    "plt.show()"
   ]
  },
  {
   "cell_type": "markdown",
   "id": "2bec4d29",
   "metadata": {},
   "source": [
    "# Exercise"
   ]
  },
  {
   "cell_type": "code",
   "execution_count": 4,
   "id": "9bffaa32",
   "metadata": {},
   "outputs": [],
   "source": [
    "img = cv.imread(\"images/chair.jpg\")\n",
    "gray = cv.cvtColor(img,cv.COLOR_BGR2GRAY)\n",
    "\n",
    "ratio = 2.5\n",
    "trackbar_name = \"Th1\"\n",
    "wn = \"canny\"\n",
    "ksize = 3\n",
    "\n",
    "def cannyThreshold(val):\n",
    "    \"\"\"Trackbar callback function\"\"\"\n",
    "    edge = cv.Canny(gray,val,ratio*val,apertureSize = ksize)\n",
    "    mask = edge != 0\n",
    "    res = img * (mask[:,:,None].astype(np.uint8))\n",
    "    cv.imshow(wn,res)\n",
    "    \n",
    "cv.namedWindow(wn)\n",
    "cv.createTrackbar(trackbar_name, wn,10,100,cannyThreshold)\n",
    "\n",
    "cv.waitKey(0)\n",
    "cv.destroyAllWindows()"
   ]
  },
  {
   "cell_type": "code",
   "execution_count": 7,
   "id": "a6bb1cc3",
   "metadata": {},
   "outputs": [],
   "source": [
    "def auto_canny(img,method,sigma = 0.33):\n",
    "    \"\"\"Args:\n",
    "    img:grayscale image\n",
    "    method: median, otsu, triangle\n",
    "    sigma: 0.33 (default)\"\"\"\n",
    "    \n",
    "    if method == \"median\":\n",
    "        Th = np.median(img)\n",
    "        \n",
    "    elif method == \"otsu\":\n",
    "        Th = cv.threshold(img,0,255,cv.THRESH_OTSU)[0]\n",
    "        \n",
    "    elif method == \"triangle\":\n",
    "        Th = cv.threshold(img,0,255,cv.THRESH_TRIANGLE)[0]\n",
    "\n",
    "    else:\n",
    "        raise Exception(\"Method specified unavailable\")\n",
    "        \n",
    "    lowTh = (1-sigma) * Th\n",
    "    highTh = (1+sigma) * Th\n",
    "    \n",
    "    return cv.Canny(img,lowTh,highTh)"
   ]
  },
  {
   "cell_type": "markdown",
   "id": "4fe99f51",
   "metadata": {},
   "source": [
    "## Contour detection"
   ]
  },
  {
   "cell_type": "code",
   "execution_count": 41,
   "id": "73e61106",
   "metadata": {},
   "outputs": [],
   "source": [
    "rect = np.zeros((256,256),dtype = np.uint8)\n",
    "\n",
    "cv.rectangle(rect,(25,25),(231,231),255,-1)\n",
    "\n",
    "show_img(\"rect\",rect)"
   ]
  },
  {
   "cell_type": "code",
   "execution_count": 43,
   "id": "76408be4",
   "metadata": {},
   "outputs": [
    {
     "data": {
      "text/plain": [
       "1"
      ]
     },
     "execution_count": 43,
     "metadata": {},
     "output_type": "execute_result"
    }
   ],
   "source": [
    "contours, _ = cv.findContours(rect,cv.RETR_EXTERNAL,cv.CHAIN_APPROX_SIMPLE)\n",
    "\n",
    "len(contours)"
   ]
  },
  {
   "cell_type": "code",
   "execution_count": 44,
   "id": "9e4e5e13",
   "metadata": {},
   "outputs": [
    {
     "data": {
      "text/plain": [
       "(array([[[ 25,  25]],\n",
       " \n",
       "        [[ 25, 231]],\n",
       " \n",
       "        [[231, 231]],\n",
       " \n",
       "        [[231,  25]]], dtype=int32),)"
      ]
     },
     "execution_count": 44,
     "metadata": {},
     "output_type": "execute_result"
    }
   ],
   "source": [
    "contours"
   ]
  },
  {
   "cell_type": "code",
   "execution_count": 47,
   "id": "4ab999dd",
   "metadata": {},
   "outputs": [],
   "source": [
    "img_bgr = cv.imread(\"images/monitor.jfif\")\n",
    "img = cv.imread(\"images/monitor.jfif\",0)\n",
    "\n",
    "#threshold\n",
    "th = cv.threshold(img,200,255,cv.THRESH_BINARY_INV)[1]\n",
    "\n",
    "show_img(\"threshold\",th)\n",
    "\n",
    "contours, _ = cv.findContours(th,cv.RETR_TREE,cv.CHAIN_APPROX_SIMPLE)"
   ]
  },
  {
   "cell_type": "code",
   "execution_count": 46,
   "id": "2cf4889c",
   "metadata": {},
   "outputs": [
    {
     "data": {
      "text/plain": [
       "12"
      ]
     },
     "execution_count": 46,
     "metadata": {},
     "output_type": "execute_result"
    }
   ],
   "source": [
    "len(contours)"
   ]
  },
  {
   "cell_type": "code",
   "execution_count": 48,
   "id": "335398d4",
   "metadata": {},
   "outputs": [],
   "source": [
    "cv.drawContours(img_bgr,contours,-1,(0,255,0),1)\n",
    "\n",
    "\n",
    "show_img(\"contours\",img_bgr)"
   ]
  },
  {
   "cell_type": "code",
   "execution_count": 49,
   "id": "aae68ca0",
   "metadata": {},
   "outputs": [],
   "source": [
    "contours, _ = cv.findContours(th,cv.RETR_EXTERNAL,cv.CHAIN_APPROX_SIMPLE)\n",
    "img_bgr_copy = img_bgr.copy()\n",
    "cv.drawContours(img_bgr,contours,-1,(0,255,0),1)\n",
    "\n",
    "show_img(\"contours\",img_bgr_copy)"
   ]
  },
  {
   "cell_type": "code",
   "execution_count": 50,
   "id": "3b164410",
   "metadata": {},
   "outputs": [],
   "source": [
    "contours, _ = cv.findContours(th,cv.RETR_TREE,cv.CHAIN_APPROX_SIMPLE)"
   ]
  },
  {
   "cell_type": "code",
   "execution_count": 51,
   "id": "0ec4dca0",
   "metadata": {},
   "outputs": [],
   "source": [
    "# contours with maximum number of points\n",
    "length = [len(c) for c in contours]\n",
    "contour_largest = contours[np.argmax(length)]\n",
    "\n",
    "img_bgr_copy = img_bgr.copy()\n",
    "cv.drawContours(img_bgr_copy,[contour_largest],-1,(0,255,0),1)\n",
    "\n",
    "show_img(\"contours\",img_bgr_copy)"
   ]
  },
  {
   "cell_type": "code",
   "execution_count": 52,
   "id": "2bd2ae4b",
   "metadata": {},
   "outputs": [],
   "source": [
    "cnt = contour_largest"
   ]
  },
  {
   "cell_type": "markdown",
   "id": "3a41b590",
   "metadata": {},
   "source": [
    "## Contour features"
   ]
  },
  {
   "cell_type": "code",
   "execution_count": 53,
   "id": "524ae0ad",
   "metadata": {},
   "outputs": [
    {
     "name": "stdout",
     "output_type": "stream",
     "text": [
      "{'m00': 37113.5, 'm10': 3913689.5, 'm01': 3849569.1666666665, 'm20': 529272493.25, 'm11': 402572898.125, 'm02': 519454930.25, 'm30': 80631725758.65001, 'm21': 53484537787.45, 'm12': 53828827220.55, 'm03': 80175930424.35, 'mu20': 116566456.29821026, 'mu11': -3371527.140929699, 'mu02': 120161337.11136603, 'mu30': 234618732.78678894, 'mu21': -702775455.4171028, 'mu12': -249269762.75935364, 'mu03': 1368584318.4292145, 'nu20': 0.08462716040157804, 'nu11': -0.0024477261916909816, 'nu02': 0.08723704119285126, 'nu30': 0.0008841641534443626, 'nu21': -0.002648419664618219, 'nu12': -0.0009393767758931957, 'nu03': 0.005157530180767104}\n"
     ]
    }
   ],
   "source": [
    "M = cv.moments(cnt)\n",
    "print(M)"
   ]
  },
  {
   "cell_type": "code",
   "execution_count": 54,
   "id": "5f8196be",
   "metadata": {},
   "outputs": [
    {
     "name": "stdout",
     "output_type": "stream",
     "text": [
      "the centroid of monitor: (105, 103)\n"
     ]
    }
   ],
   "source": [
    "# centroid (center of mass)\n",
    "cx = int(M[\"m10\"]/M[\"m00\"])\n",
    "cy = int(M[\"m01\"]/M[\"m00\"])\n",
    "\n",
    "print(f\"the centroid of monitor: {(cx,cy)}\")\n"
   ]
  },
  {
   "cell_type": "code",
   "execution_count": 55,
   "id": "23753502",
   "metadata": {},
   "outputs": [
    {
     "name": "stdout",
     "output_type": "stream",
     "text": [
      "The area of monitor:37113.5\n",
      "The perimeter of monitor:1056.777\n"
     ]
    }
   ],
   "source": [
    "# area and perimeter\n",
    "area = cv.contourArea(cnt)\n",
    "peri = cv.arcLength(cnt,True)\n",
    "\n",
    "print(f\"The area of monitor:{area}\")\n",
    "print(f\"The perimeter of monitor:{peri:.3f}\")"
   ]
  },
  {
   "cell_type": "code",
   "execution_count": 5,
   "id": "91b47cf7",
   "metadata": {},
   "outputs": [],
   "source": [
    "img = cv.imread(\"images/remote-controller.webp\")"
   ]
  },
  {
   "cell_type": "code",
   "execution_count": 8,
   "id": "80504829",
   "metadata": {},
   "outputs": [],
   "source": [
    "# resize -> grayscale -> bilateral filter -> edge detection -> find contour \n",
    "# contour features\n",
    "factor = 300 / img.shape[1]\n",
    "img = cv.resize(img,None,fx = factor,fy=factor)\n",
    "gray = cv.cvtColor(img,cv.COLOR_BGR2GRAY)\n",
    "blur = cv.bilateralFilter(gray,7,19,13)\n",
    "edge = auto_canny(blur,method=\"triangle\")\n",
    "\n",
    "# find contour\n",
    "contours, _ = cv.findContours(edge, cv.RETR_TREE, cv.CHAIN_APPROX_SIMPLE)\n",
    "# area\n",
    "contours = sorted(contours,key=cv.contourArea,reverse=True)[:5]\n",
    "screen = None\n",
    "img_copy = img.copy()\n",
    "\n",
    "for c in contours:\n",
    "    peri = cv.arcLength(c,True)\n",
    "    approx = cv.approxPolyDP(c,0.1*peri,True)\n",
    "    \n",
    "    if len(approx) == 4:\n",
    "        screen = c\n",
    "        break\n",
    "        \n",
    "cv.drawContours(img_copy,[screen],-1,(0,255,0),2)\n",
    "show_img(\"screen\", img_copy)"
   ]
  },
  {
   "cell_type": "markdown",
   "id": "1e7a2a79",
   "metadata": {},
   "source": [
    "# Circularity\n",
    " Circularity = (4*pi*Area)/Perimeter^2"
   ]
  },
  {
   "cell_type": "markdown",
   "id": "faff791a",
   "metadata": {},
   "source": [
    "## Demo on red object detector"
   ]
  },
  {
   "cell_type": "code",
   "execution_count": 13,
   "id": "c75f4549",
   "metadata": {},
   "outputs": [],
   "source": [
    "redLow1 = (0,90,40)\n",
    "redHigh1 = (10,255,210)\n",
    "\n",
    "redLow2 = (170,90,40)\n",
    "redHigh2 = (179,255,210)\n",
    "\n",
    "cap = cv.VideoCapture(0)\n",
    "\n",
    "if not cap.isOpened():\n",
    "    sys.exit(\"No webcame detected\")\n",
    "\n",
    "# factor\n",
    "fixed_width = min_area = 500\n",
    "factor = fixed_width / cap.get(3) #frame width\n",
    "kernel = np.ones((3,3),dtype=np.uint8)\n",
    "\n",
    "while(1):\n",
    "    ret,frame = cap.read()\n",
    "    \n",
    "    if not ret:\n",
    "        print(\"No frame received\")\n",
    "        break\n",
    "    \n",
    "    # resize, blur, change to hsv, inRange, mask integration, morphological\n",
    "    # operation, find contour, bounding box\n",
    "    resized = cv.resize(frame, None, fx = factor,fy=factor)\n",
    "    blur = cv.GaussianBlur(resized,(5,5),0)\n",
    "    img_hsv = cv.cvtColor(blur, cv.COLOR_BGR2HSV)\n",
    "    \n",
    "    mask1 = cv.inRange(img_hsv, redLow1,redHigh1)\n",
    "    mask2 = cv.inRange(img_hsv, redLow2,redHigh2)\n",
    "    mask = cv.add(mask1,mask2)\n",
    "    \n",
    "    # supress noise\n",
    "    mask = cv.morphologyEx(mask, cv.MORPH_OPEN,kernel,iterations=2)\n",
    "    \n",
    "    # find contours\n",
    "    contours, _ = cv.findContours(mask,cv.RETR_EXTERNAL,cv.CHAIN_APPROX_SIMPLE)\n",
    "    \n",
    "    bbs = []\n",
    "    centroids = []\n",
    "    for c in contours:\n",
    "        area = cv.contourArea(c)\n",
    "        if area > min_area:\n",
    "            bb = cv.boundingRect(c)\n",
    "            M = cv.moments(c)\n",
    "            cx = int(M[\"m10\"]/M[\"m00\"])\n",
    "            cy = int(M[\"m01\"]/M[\"m00\"])\n",
    "            centroids.append((cx,cy))\n",
    "            bbs.append(bb)\n",
    "            \n",
    "    for bb, centroid in zip(bbs,centroids):\n",
    "        x,y,w,h = bb\n",
    "        cv.rectangle(resized,(x,y),(x+w,y+h),(0,255,0),2)\n",
    "        cv.circle(resized,centroid,2,(255,0,0),-1)\n",
    "        \n",
    "    cv.imshow(\"red object\",resized)\n",
    "    k = cv.waitKey(1) & 0xFF\n",
    "    if k == 27:\n",
    "        break\n",
    "        \n",
    "cv.destroyAllWindows()\n",
    "cap.release()"
   ]
  },
  {
   "cell_type": "markdown",
   "id": "842825bd",
   "metadata": {},
   "source": [
    "# Weekly Activity\n",
    "## Exercise 1"
   ]
  },
  {
   "cell_type": "code",
   "execution_count": 27,
   "id": "f37fd86c",
   "metadata": {},
   "outputs": [],
   "source": [
    "# Read the image\n",
    "image = cv.imread('images/pineapple.jfif', 0)\n",
    "\n",
    "ksize = 3\n",
    "\n",
    "# Apply Sobel edge detector\n",
    "sobelx_32f = cv.Sobel(image,cv.CV_32F,1,0)\n",
    "sobely_32f = cv.Sobel(image,cv.CV_32F,1,0)\n",
    "sobel = sobelx_32f + sobely_32f\n",
    "\n",
    "# Apply Laplacian edge detector\n",
    "laplacian = cv.Laplacian(image, cv.CV_32F, ksize=ksize)\n",
    "laplacian = cv.convertScaleAbs(laplacian)\n",
    "\n",
    "# Define Prewitt kernels\n",
    "kernel_x = np.array([[1,1,1],[0,0,0],[-1,-1,-1]])\n",
    "kernel_y = np.array([[-1,0,1],[-1,0,1],[-1,0,1]])\n",
    "\n",
    "# Apply Prewitt edge detector\n",
    "prewitt_x = cv.filter2D(image, -1, kernel_x)\n",
    "prewitt_y = cv.filter2D(image, -1, kernel_y)\n",
    "prewitt = prewitt_x + prewitt_y\n",
    "\n",
    "# Define Scharr kernels\n",
    "skernel_x = np.array([[3,0,-3],[10,0,-10],[3,0,-3]])\n",
    "skernel_y = np.array([[3,10,3],[0,0,0],[-3,-10,-3]])\n",
    "\n",
    "# Apply Scharr edge detector\n",
    "scharr_x = cv.filter2D(image, -1, skernel_x)\n",
    "scharr_y = cv.filter2D(image, -1, skernel_y)\n",
    "scharr = scharr_x + scharr_y\n",
    "\n",
    "# Apply Canny edge detector\n",
    "canny = cv.Canny(image, threshold1=100, threshold2=300, apertureSize=ksize)\n",
    "\n",
    "# Display the edge detection results\n",
    "cv.imshow('Original Image', image)\n",
    "\n",
    "# highlights edges with higher contrast. The edges are thick, and both horizontal and vertical edges are captured.\n",
    "cv.imshow('Sobel Edges', sobel)\n",
    "\n",
    "# edges as positive and negative intensity changes. The edges are generally thin and appear as dark lines on a white background.\n",
    "cv.imshow('Laplacian Edges', laplacian)\n",
    "\n",
    "# highlights edges in both horizontal and vertical directions, similar to Sobel.\n",
    "cv.imshow('Prewitt Edges', prewitt)\n",
    "\n",
    "# enhances edges in a manner similar to Sobel but can capture finer details.\n",
    "cv.imshow('Scharr Edges', scharr)\n",
    "\n",
    "# well-defined edges with thin lines. It also marks the detected edges with double edges to indicate stronger responses.\n",
    "cv.imshow('Canny Edges', canny)\n",
    "\n",
    "cv.waitKey(0)\n",
    "cv.destroyAllWindows()"
   ]
  },
  {
   "cell_type": "markdown",
   "id": "7356501d",
   "metadata": {},
   "source": [
    "## Exercise 2"
   ]
  },
  {
   "cell_type": "code",
   "execution_count": 28,
   "id": "57fe103b",
   "metadata": {},
   "outputs": [],
   "source": [
    "# Read the image\n",
    "image = cv.imread('images/electronic.jfif')\n",
    "gray = cv.cvtColor(image, cv.COLOR_BGR2GRAY)\n",
    "\n",
    "# Threshold the image to create a binary mask of white regions\n",
    "_, thresh = cv.threshold(gray, 200, 255, cv.THRESH_BINARY)\n",
    "\n",
    "# Find contours in the binary mask\n",
    "contours, _ = cv.findContours(thresh, cv.RETR_EXTERNAL, cv.CHAIN_APPROX_SIMPLE)\n",
    "\n",
    "# Loop through the detected contours and draw bounding boxes\n",
    "for contour in contours:\n",
    "    area = cv.contourArea(contour)\n",
    "    if area > 500:  # Adjust this threshold based on your image\n",
    "        x, y, w, h = cv.boundingRect(contour)\n",
    "        cv.rectangle(image, (x, y), (x + w, y + h), (0, 255, 0), 2)\n",
    "\n",
    "# Display the image with bounding boxes\n",
    "cv.imshow('Detected White Objects', image)\n",
    "cv.waitKey(0)\n",
    "cv.destroyAllWindows()"
   ]
  },
  {
   "cell_type": "markdown",
   "id": "e7d51be6",
   "metadata": {},
   "source": [
    "## Exercise 3"
   ]
  },
  {
   "cell_type": "code",
   "execution_count": 29,
   "id": "1f514ad8",
   "metadata": {},
   "outputs": [],
   "source": [
    "# Read the image\n",
    "image = cv.imread('images/clock.jpg')\n",
    "\n",
    "# Convert the image to grayscale\n",
    "gray = cv.cvtColor(image, cv.COLOR_BGR2GRAY)\n",
    "\n",
    "# Apply Gaussian blur to reduce noise\n",
    "blurred = cv.GaussianBlur(gray, (5, 5), 0)\n",
    "\n",
    "# Apply Canny edge detection\n",
    "edges = cv.Canny(blurred, threshold1=30, threshold2=70)\n",
    "\n",
    "# Find contours in the edge-detected image\n",
    "contours, _ = cv.findContours(edges, cv.RETR_EXTERNAL, cv.CHAIN_APPROX_SIMPLE)\n",
    "\n",
    "# Filter contours based on area and circularity\n",
    "min_area = 1000  # Minimum area threshold\n",
    "max_circularity = 0.5  # Maximum circularity (1.0 for perfect circle)\n",
    "filtered_contours = []\n",
    "for contour in contours:\n",
    "    area = cv.contourArea(contour)\n",
    "    perimeter = cv.arcLength(contour, True)\n",
    "    if perimeter != 0:\n",
    "        circularity = 4 * np.pi * area / (perimeter * perimeter)\n",
    "        if area > min_area  and circularity > max_circularity:\n",
    "            filtered_contours.append(contour)\n",
    "                  \n",
    "# Draw bounding circles around filtered contours\n",
    "for contour in filtered_contours:\n",
    "    (x, y), radius = cv.minEnclosingCircle(contour)\n",
    "    center = (int(x), int(y))\n",
    "    radius = int(radius)\n",
    "    cv.circle(image, center, radius, (0, 255, 0), 2)\n",
    "\n",
    "# Display the image with bounding circles\n",
    "cv.imshow('Clock Circular Bounding Boxes', image)\n",
    "cv.waitKey(0)\n",
    "cv.destroyAllWindows()"
   ]
  },
  {
   "cell_type": "code",
   "execution_count": null,
   "id": "78bba616",
   "metadata": {},
   "outputs": [],
   "source": []
  }
 ],
 "metadata": {
  "kernelspec": {
   "display_name": "Python 3 (ipykernel)",
   "language": "python",
   "name": "python3"
  },
  "language_info": {
   "codemirror_mode": {
    "name": "ipython",
    "version": 3
   },
   "file_extension": ".py",
   "mimetype": "text/x-python",
   "name": "python",
   "nbconvert_exporter": "python",
   "pygments_lexer": "ipython3",
   "version": "3.9.12"
  }
 },
 "nbformat": 4,
 "nbformat_minor": 5
}
